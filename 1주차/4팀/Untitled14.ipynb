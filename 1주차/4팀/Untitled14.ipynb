{
  "nbformat": 4,
  "nbformat_minor": 0,
  "metadata": {
    "colab": {
      "provenance": []
    },
    "kernelspec": {
      "name": "python3",
      "display_name": "Python 3"
    },
    "language_info": {
      "name": "python"
    }
  },
  "cells": [
    {
      "cell_type": "code",
      "execution_count": 1,
      "metadata": {
        "id": "nA6zw3mRoj9j"
      },
      "outputs": [],
      "source": [
        "import numpy as np\n",
        "\n",
        "BOARD_ROWS = 3\n",
        "BOARD_COLS = 4\n",
        "WIN_STATE = (0, 3)\n",
        "LOSE_STATE = (1, 3)\n",
        "BLOCKED_STATE = (1, 1)\n",
        "START = (2, 0)\n",
        "DETERMINISTIC = False"
      ]
    },
    {
      "cell_type": "code",
      "source": [
        "class State:\n",
        "    def __init__(self, state = START):\n",
        "        self.state = state\n",
        "        self.isEnd = False\n",
        "        self.determine = DETERMINISTIC\n",
        "\n",
        "    def giveReward(self):\n",
        "        if self.state == WIN_STATE:\n",
        "            return 1\n",
        "        elif self.state == LOSE_STATE:\n",
        "            return -1\n",
        "        else:\n",
        "            return 0\n",
        "\n",
        "    def isEndFunc(self):\n",
        "        if (self.state == WIN_STATE) or (self.state == LOSE_STATE):\n",
        "            self.isEnd = True\n",
        "\n",
        "    def _chooseActionProb(self, action):\n",
        "        if action == \"U\":\n",
        "            return np.random.choice([\"U\", \"L\", \"R\"], p = [0.8, 0.1, 0.1])\n",
        "        if action == \"D\":\n",
        "            return np.random.choice([\"D\", \"L\", \"R\"], p = [0.8, 0.1, 0.1])\n",
        "        if action == \"L\":\n",
        "            return np.random.choice([\"L\", \"U\", \"D\"], p = [0.8, 0.1, 0.1])\n",
        "        if action == \"R\":\n",
        "            return np.random.choice([\"R\", \"U\", \"D\"], p = [0.8, 0.1, 0.1])\n",
        "\n",
        "    def nxtPosition(self, action):\n",
        "        if self.determine:\n",
        "            if action == \"U\":\n",
        "                nxtState = (self.state[0] - 1, self.state[1])\n",
        "            elif action == \"D\":\n",
        "                nxtState = (self.state[0] + 1, self.state[1])\n",
        "            elif action == \"L\":\n",
        "                nxtState = (self.state[0], self.state[1] - 1)\n",
        "            else:\n",
        "                nxtState = (self.state[0], self.state[1] + 1)\n",
        "            self.determine = False\n",
        "        else:\n",
        "            action = self._chooseActionProb(action)\n",
        "            self.determine = True\n",
        "            nxtState = self.nxtPosition(action)\n",
        "\n",
        "        if (nxtState[0] >= 0) and (nxtState[0] <= 2):\n",
        "            if (nxtState[1] >= 0) and (nxtState[1] <= 3):\n",
        "                if nxtState != BLOCKED_STATE:\n",
        "                    return nxtState\n",
        "        return self.state"
      ],
      "metadata": {
        "id": "861l2KZipW5L"
      },
      "execution_count": 18,
      "outputs": []
    },
    {
      "cell_type": "code",
      "source": [
        "class Agent:\n",
        "\n",
        "    def __init__(self):\n",
        "        self.states = []\n",
        "        self.actions = [\"U\", \"D\", \"L\", \"R\"]\n",
        "        self.State = State()\n",
        "        self.isEnd = self.State.isEnd\n",
        "        self.lr = 0.2\n",
        "        self.decay_gamma = 0.9\n",
        "\n",
        "        self.Q_values = {}\n",
        "        for i in range(BOARD_ROWS):\n",
        "            for j in range(BOARD_COLS):\n",
        "                self.Q_values[(i, j)] = {}\n",
        "                for a in self.actions:\n",
        "                    self.Q_values[(i, j)][a] = 0\n",
        "\n",
        "    def chooseAction(self):\n",
        "        max_nxt_reward = 0\n",
        "        action = \"\"\n",
        "\n",
        "        for a in self.actions:\n",
        "            current_position = self.State.state\n",
        "            nxt_reward = self.Q_values[current_position][a]\n",
        "            if nxt_reward >= max_nxt_reward:\n",
        "                action = a\n",
        "                max_nxt_reward = nxt_reward\n",
        "        return action\n",
        "\n",
        "    def takeAction(self, action):\n",
        "        position = self.State.nxtPosition(action)\n",
        "        return State(state = position)\n",
        "\n",
        "    def reset(self):\n",
        "        self.states = []\n",
        "        self.State = State()\n",
        "        self.isEnd = self.State.isEnd\n",
        "\n",
        "    def play(self, episodes = 10):\n",
        "        i = 0\n",
        "        while i < episodes:\n",
        "            if self.State.isEnd:\n",
        "                reward = self.State.giveReward()\n",
        "                for a in self.actions:\n",
        "                    self.Q_values[self.State.state][a] = reward\n",
        "                for s in reversed(self.states):\n",
        "                    current_q_value = self.Q_values[s[0]][s[1]]\n",
        "                    reward = current_q_value + self.lr * (self.decay_gamma * reward - current_q_value)\n",
        "                    self.Q_values[s[0]][s[1]] = round(reward, 3)\n",
        "                self.reset()\n",
        "                i += 1\n",
        "            else:\n",
        "                action = self.chooseAction()\n",
        "                self.states.append([(self.State.state), action])\n",
        "                self.State = self.takeAction(action)\n",
        "                self.State.isEndFunc()\n",
        "                self.isEnd = self.State.isEnd"
      ],
      "metadata": {
        "id": "5uZUo6HUqF-B"
      },
      "execution_count": 19,
      "outputs": []
    },
    {
      "cell_type": "code",
      "source": [
        "ag = Agent()\n",
        "\n",
        "ag.play(1000)\n",
        "print(\"latest Q-values ... \\n\")\n",
        "print(ag.Q_values)"
      ],
      "metadata": {
        "colab": {
          "base_uri": "https://localhost:8080/"
        },
        "id": "UX5eZ3vBqZM_",
        "outputId": "761523d9-0ea9-4d5a-fe8d-b714d0cdf5cb"
      },
      "execution_count": 20,
      "outputs": [
        {
          "output_type": "stream",
          "name": "stdout",
          "text": [
            "latest Q-values ... \n",
            "\n",
            "{(0, 0): {'U': 0, 'D': 0, 'L': 0, 'R': 0.559}, (0, 1): {'U': 0, 'D': 0, 'L': 0, 'R': 0.762}, (0, 2): {'U': 0, 'D': 0, 'L': 0, 'R': 0.88}, (0, 3): {'U': 1, 'D': 1, 'L': 1, 'R': 1}, (1, 0): {'U': 0, 'D': 0, 'L': 0, 'R': 0.126}, (1, 1): {'U': 0, 'D': 0, 'L': 0, 'R': 0}, (1, 2): {'U': 0, 'D': 0, 'L': 0.348, 'R': -0.18}, (1, 3): {'U': -1, 'D': -1, 'L': -1, 'R': -1}, (2, 0): {'U': 0, 'D': 0, 'L': 0.081, 'R': -0.001}, (2, 1): {'U': 0, 'D': 0, 'L': 0.091, 'R': -0.005}, (2, 2): {'U': 0, 'D': 0, 'L': 0.164, 'R': -0.03}, (2, 3): {'U': 0, 'D': 0, 'L': 0, 'R': -0.173}}\n"
          ]
        }
      ]
    }
  ]
}